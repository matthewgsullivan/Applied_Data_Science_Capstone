{
    "nbformat_minor": 1, 
    "cells": [
        {
            "source": "# Final Capstone Project\n### IBM Data Science Professional Certificate\n### Matthew G. Sullivan\n\n", 
            "cell_type": "markdown", 
            "metadata": {
                "collapsed": true
            }
        }, 
        {
            "source": "## Introduction\n\nThis notebook is the final assignment for the Capstone course for the IBM Data Science Professional Certificate. The IBM Data Science Professional Certificate Course immerses students in the topic of data science, focusing on technologies utilized by Watson Studio on IBM Cloud. The course teaches how to use Python, Jupyter Notebooks and related technologies to retrieve, format and analyze data using numerous statistical and machine learning models, and report the data such that it can be utilized by stakeholders for particular purposes.\n\nIn this assignment, we are to use the Places API from FourSquare to analyze location data for particular neighborhoods and apply that to assist solving a problem identified by the student. This report contains my final assignment for this course and program\n", 
            "cell_type": "markdown", 
            "metadata": {}
        }, 
        {
            "source": "## Business Problem\n\nThe Parkrose neighborhood in Portland, OR has a plethora of available business spaces.  The Parkrose Neighborhood Association has been coordinating with the Parkrose Business Council to attract new businesses, but that has had mixed results.\n\n* Some of the new businesses that have opened have languished or closed, resulting in less increases in business density than targeted\n* Existing businesses are not seeing benefit in increased sales from any changes in business density\n* Parking has become more scarce \n* Neighborhood residents complain that they have not seen a noticeable improvement to quality of life from the presence of these businesses\n\nThe two organizations have decided to halt the current initiatives and engage in a more data driven approach and a mission with increased clarity.\n\nThe objectives of this approach will be:\n\n* To improve the quality of life residents of the neighborhood\n* To attract businesses to Parkrose which better serve the needs of the residents\n* To improve the economy by increasing the amount of income generated in Parkrose which stays in the neighborhood\n* To grow the economy sustainably, in a way which does not impact shared resources that are depended upon, such as on-street parking\n* To create a feedback cycle which attracts residents who will spend locally and attract premium employers\n\nConsidering these goals, the organizations have decided to narrow in on metrics scoring the pedestrian, bike and public transit services in the area.  The overall hypotheses is that improving these qualities will result in attracting more upwardly mobile residents, less contention for decreasing availability of parking, less overall driving, improved health and overall improved ratings on quality of life from members of the community.\n\nThis report will help provide the necessary data for these plans. The questions this report will answer is:\n\n1.\tWhich Portland neighborhoods are classified as similar to Parkrose based demographic clustering\n2.\tHow does Parkrose compare in walkability to the other neighborhoods in that cluster\n3.\tWhat are the most common non-residential location categories  in neighborhoods of the same cluster, and how does Parkrose compare\n4.\tWhat are the most common non-residential location categories  in neighborhoods with higher walk \\ bike \\ transit scores\n\n", 
            "cell_type": "markdown", 
            "metadata": {}
        }, 
        {
            "source": "## Data\n\nThe demographic data used in this report will include\n\n-\t% of total residents and gender split in each age range\n-\t% of 1 person households and the gender split of each\n-\t% of family households with married couples\n-\t% of non-family households\n-\t% Households owned with a mortgage or a loan\n-\t% Households owned free and clear\n-\t% Households renter occupied\n\nThe demographic data will be a CSV file compiled from data available at this address:  \nhttps://www.portlandoregon.gov/civic/article/376383\n\nThe data source for the location information in the report will be the Places API from FourSquare. The data from that data source which will be used in this analysis includes:\n\n-\tThe name of the place\n-\tThe geographic coordinates of the place\n-\tThe category of the place\n", 
            "cell_type": "markdown", 
            "metadata": {}
        }, 
        {
            "source": "", 
            "cell_type": "code", 
            "execution_count": null, 
            "outputs": [], 
            "metadata": {}
        }
    ], 
    "nbformat": 4, 
    "metadata": {
        "kernelspec": {
            "display_name": "Python 3.6", 
            "name": "python3", 
            "language": "python"
        }, 
        "language_info": {
            "mimetype": "text/x-python", 
            "nbconvert_exporter": "python", 
            "version": "3.6.8", 
            "name": "python", 
            "pygments_lexer": "ipython3", 
            "file_extension": ".py", 
            "codemirror_mode": {
                "version": 3, 
                "name": "ipython"
            }
        }
    }
}